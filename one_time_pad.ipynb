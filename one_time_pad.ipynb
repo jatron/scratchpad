{
 "cells": [
  {
   "cell_type": "code",
   "execution_count": null,
   "metadata": {},
   "outputs": [],
   "source": [
    "import math"
   ]
  },
  {
   "cell_type": "code",
   "execution_count": null,
   "metadata": {},
   "outputs": [],
   "source": [
    "file_name = \"/Users/jatron/Desktop/Letter.txt\"\n",
    "encrypted_message = \"/Users/jatron/Desktop/EncryptedLetter.txt\"\n",
    "key = \"How YOU doin'? \""
   ]
  },
  {
   "cell_type": "code",
   "execution_count": null,
   "metadata": {},
   "outputs": [],
   "source": [
    "def int_to_hex(c):\n",
    "    c_in_hex = format(c, \"x\")\n",
    "    if (len(c_in_hex) == 1):\n",
    "        c_in_hex = \"0\" + c_in_hex\n",
    "    return c_in_hex\n",
    "\n",
    "# Xor two strings (trims the longer input)\n",
    "# Returns hex encoding of the xor'd strings\n",
    "def strxor(a, b):\n",
    "    return \"\".join([int_to_hex(ord(x) ^ ord(y)) for (x, y) in zip(a, b)])\n",
    "\n",
    "def encrypt(key, text):\n",
    "    extended_key = key * math.ceil(len(text) / len(key))\n",
    "    extended_key = extended_key[:len(text)]\n",
    "    assert len(extended_key) == len(text)\n",
    "    return strxor(extended_key, text)"
   ]
  },
  {
   "cell_type": "code",
   "execution_count": null,
   "metadata": {},
   "outputs": [],
   "source": [
    "f = open(file_name, \"r\")\n",
    "for line in f:\n",
    "    # Don't encrypt the final '\\n' character\n",
    "    encrypted_line = encrypt(key, line[:-1])\n",
    "    print(encrypted_line)"
   ]
  },
  {
   "cell_type": "code",
   "execution_count": null,
   "metadata": {},
   "outputs": [],
   "source": [
    "f = open(encrypted_message, \"r\")\n",
    "for line in f:\n",
    "    # Don't decrypt the final '\\n' character\n",
    "    line_ascii = bytearray.fromhex(line[:-1]).decode()\n",
    "    decrypted_line = encrypt(key, line_ascii)\n",
    "    print(bytearray.fromhex(decrypted_line).decode())"
   ]
  },
  {
   "cell_type": "code",
   "execution_count": null,
   "metadata": {},
   "outputs": [],
   "source": []
  }
 ],
 "metadata": {
  "language_info": {
   "name": "python",
   "pygments_lexer": "ipython3"
  }
 },
 "nbformat": 4,
 "nbformat_minor": 4
}
